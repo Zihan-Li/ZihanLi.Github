{
  "nbformat": 4,
  "nbformat_minor": 0,
  "metadata": {
    "colab": {
      "name": "Homework_1.ipynb",
      "provenance": [],
      "collapsed_sections": [],
      "toc_visible": true,
      "mount_file_id": "1BlIZ15eFUaZk-Kae5O-7k-w-TB__Srrj",
      "authorship_tag": "ABX9TyOi2Vhd+i34GrrdNM2HjTHB",
      "include_colab_link": true
    },
    "kernelspec": {
      "name": "python3",
      "display_name": "Python 3"
    }
  },
  "cells": [
    {
      "cell_type": "markdown",
      "metadata": {
        "id": "view-in-github",
        "colab_type": "text"
      },
      "source": [
        "<a href=\"https://colab.research.google.com/github/Zihan-Li/ZihanLi.Github/blob/master/Homework_1.ipynb\" target=\"_parent\"><img src=\"https://colab.research.google.com/assets/colab-badge.svg\" alt=\"Open In Colab\"/></a>"
      ]
    },
    {
      "cell_type": "code",
      "metadata": {
        "id": "1Z5hL5t36AtV",
        "colab_type": "code",
        "colab": {}
      },
      "source": [
        "import numpy as np"
      ],
      "execution_count": 0,
      "outputs": []
    },
    {
      "cell_type": "code",
      "metadata": {
        "id": "HPhF9L8o6ieR",
        "colab_type": "code",
        "colab": {}
      },
      "source": [
        "import matplotlib.pyplot as plt"
      ],
      "execution_count": 0,
      "outputs": []
    },
    {
      "cell_type": "markdown",
      "metadata": {
        "id": "k6ffCnXM-3wB",
        "colab_type": "text"
      },
      "source": [
        "Question 3.a"
      ]
    },
    {
      "cell_type": "code",
      "metadata": {
        "id": "858bczKO8pfM",
        "colab_type": "code",
        "outputId": "777bde92-3df7-42f6-8e5e-c5e1d24283d6",
        "colab": {
          "base_uri": "https://localhost:8080/",
          "height": 151
        }
      },
      "source": [
        "mean = [0,0,0]\n",
        "cov = [[1,0,0],[0,1,0],[0,0,1]]\n",
        "data = np.random.multivariate_normal(mean,cov,10000)\n",
        "print(data)\n",
        "data.shape"
      ],
      "execution_count": 3,
      "outputs": [
        {
          "output_type": "stream",
          "text": [
            "[[-0.66350153 -0.54382478 -1.62062715]\n",
            " [ 0.53476322 -0.32021752 -0.23201752]\n",
            " [ 0.97989649  0.48024106  0.26426502]\n",
            " ...\n",
            " [ 1.97383879  1.13741061 -1.21015055]\n",
            " [ 0.38526702 -0.06735347 -0.31931775]\n",
            " [ 1.71276731  0.5175449  -1.39997769]]\n"
          ],
          "name": "stdout"
        },
        {
          "output_type": "execute_result",
          "data": {
            "text/plain": [
              "(10000, 3)"
            ]
          },
          "metadata": {
            "tags": []
          },
          "execution_count": 3
        }
      ]
    },
    {
      "cell_type": "markdown",
      "metadata": {
        "id": "7EBb_i3J_e8b",
        "colab_type": "text"
      },
      "source": [
        "Question 3.b"
      ]
    },
    {
      "cell_type": "code",
      "metadata": {
        "id": "uhc07z0r7Rvz",
        "colab_type": "code",
        "outputId": "6ad8a1fb-d1d8-4728-8d9b-4dca4b35635a",
        "colab": {
          "base_uri": "https://localhost:8080/",
          "height": 282
        }
      },
      "source": [
        "norm2 = np.linalg.norm(data,ord=2,axis=1)\n",
        "print('L2 norm = ',norm2)\n",
        "plt.hist(norm2,bins=100,edgecolor='k',alpha=0.35)\n",
        "plt.grid()"
      ],
      "execution_count": 4,
      "outputs": [
        {
          "output_type": "stream",
          "text": [
            "L2 norm =  [1.83368809 0.66508878 1.12279322 ... 2.57957493 0.50490692 2.27186314]\n"
          ],
          "name": "stdout"
        },
        {
          "output_type": "display_data",
          "data": {
            "image/png": "[encoded data removed]",
            "text/plain": [
              "<Figure size 432x288 with 1 Axes>"
            ]
          },
          "metadata": {
            "tags": []
          }
        }
      ]
    },
    {
      "cell_type": "markdown",
      "metadata": {
        "id": "ZxqICvK3_ifQ",
        "colab_type": "text"
      },
      "source": [
        "Calculate average and standard deviation"
      ]
    },
    {
      "cell_type": "code",
      "metadata": {
        "id": "oDKjTn4pQvr1",
        "colab_type": "code",
        "outputId": "999641b6-7eaa-4fb9-c4ad-7ae0b665dfc5",
        "colab": {
          "base_uri": "https://localhost:8080/",
          "height": 50
        }
      },
      "source": [
        "ave = np.mean(norm2)\n",
        "std = np.std(norm2,ddof=1)\n",
        "print('Average = ',ave)\n",
        "print('Standard deviation = ',std)"
      ],
      "execution_count": 5,
      "outputs": [
        {
          "output_type": "stream",
          "text": [
            "Average =  1.5921643904532992\n",
            "Standard deviation =  0.6703635308598057\n"
          ],
          "name": "stdout"
        }
      ]
    },
    {
      "cell_type": "markdown",
      "metadata": {
        "id": "k4U0JpqoAEOA",
        "colab_type": "text"
      },
      "source": [
        "Question 3.c"
      ]
    },
    {
      "cell_type": "code",
      "metadata": {
        "id": "h-2tdrsAAxRf",
        "colab_type": "code",
        "outputId": "e7ba8d5b-f812-4050-e213-854166185aa3",
        "colab": {
          "base_uri": "https://localhost:8080/",
          "height": 286
        }
      },
      "source": [
        "d = 50\n",
        "dmean = np.zeros(d)\n",
        "dcov = np.eye(d,dtype=int)\n",
        "ddata = np.random.multivariate_normal(dmean,dcov,10000)\n",
        "print(ddata)\n",
        "ddata.shape\n",
        "dnorm2 = np.linalg.norm(ddata,ord=2,axis=1)\n",
        "print(dnorm2)\n",
        "dnorm2.shape\n",
        "dave = np.mean(dnorm2)\n",
        "dstd = np.std(dnorm2,ddof=1)\n",
        "print('Average = ',dave)\n",
        "print('Standard deviation = ',dstd)"
      ],
      "execution_count": 6,
      "outputs": [
        {
          "output_type": "stream",
          "text": [
            "[[ 0.94547789  1.14119356  1.0580988  ... -0.52891445 -0.49545025\n",
            "  -0.77807551]\n",
            " [-0.34494128  1.07981547 -0.95432469 ... -0.34024605 -0.84075314\n",
            "  -0.11097212]\n",
            " [-0.8476885  -0.64976692  0.20596271 ... -1.99275026  1.22188446\n",
            "  -0.76086996]\n",
            " ...\n",
            " [ 1.52793426 -1.91699775 -0.55192607 ...  0.54123661 -1.09834666\n",
            "   0.00663772]\n",
            " [-0.27239391  1.40169496 -1.47481028 ... -0.34311144 -0.87606254\n",
            "  -1.78838337]\n",
            " [-1.56594134 -1.3776224   0.39106621 ...  1.14237888  1.12555819\n",
            "  -1.76440263]]\n",
            "[6.99758516 6.52279248 7.20314487 ... 8.22656799 7.0182612  8.09348237]\n",
            "Average =  7.01555297019204\n",
            "Standard deviation =  0.7084573474859929\n"
          ],
          "name": "stdout"
        }
      ]
    },
    {
      "cell_type": "code",
      "metadata": {
        "id": "bxOoZDEbBmQe",
        "colab_type": "code",
        "outputId": "050abec0-e70b-4e2e-8308-fa05426890c0",
        "colab": {
          "base_uri": "https://localhost:8080/",
          "height": 302
        }
      },
      "source": [
        "d = 100\n",
        "dmean = np.zeros(d)\n",
        "dcov = np.eye(d,dtype=int)\n",
        "ddata = np.random.multivariate_normal(dmean,dcov,10000)\n",
        "print(ddata)\n",
        "ddata.shape\n",
        "dnorm2 = np.linalg.norm(ddata,ord=2,axis=1)\n",
        "print(dnorm2)\n",
        "dnorm2.shape\n",
        "dave = np.mean(dnorm2)\n",
        "dstd = np.std(dnorm2,ddof=1)\n",
        "print('Average = ',dave)\n",
        "print('Standard deviation = ',dstd)"
      ],
      "execution_count": 7,
      "outputs": [
        {
          "output_type": "stream",
          "text": [
            "[[-0.43148162  0.69296329  0.21166717 ...  0.29346085 -1.09975809\n",
            "   0.39699401]\n",
            " [ 0.11828077  1.3586625  -0.53336513 ...  0.58158348 -0.20088853\n",
            "  -0.0436092 ]\n",
            " [ 1.03825378  0.08037875 -0.6524794  ...  0.18523183  0.92777654\n",
            "   1.03970749]\n",
            " ...\n",
            " [ 0.9471879  -0.29713676  0.2481486  ... -0.73428048 -0.21448575\n",
            "  -1.595617  ]\n",
            " [-0.43305068 -0.43679865 -0.94223175 ... -0.53875347  1.00602514\n",
            "   0.46877394]\n",
            " [ 0.92163807  1.59023248 -0.99501411 ...  2.10744282 -0.41877999\n",
            "   2.39038591]]\n",
            "[ 9.65773302 10.70030696  9.62606469 ... 10.52691773  9.86815976\n",
            " 11.4999142 ]\n",
            "Average =  9.978445284665089\n",
            "Standard deviation =  0.7001820567317008\n"
          ],
          "name": "stdout"
        }
      ]
    },
    {
      "cell_type": "code",
      "metadata": {
        "id": "BjcRL3pKBuW3",
        "colab_type": "code",
        "outputId": "1684a210-eb80-496f-b8ef-67747d30eeef",
        "colab": {
          "base_uri": "https://localhost:8080/",
          "height": 302
        }
      },
      "source": [
        "d = 200\n",
        "dmean = np.zeros(d)\n",
        "dcov = np.eye(d,dtype=int)\n",
        "ddata = np.random.multivariate_normal(dmean,dcov,10000)\n",
        "print(ddata)\n",
        "ddata.shape\n",
        "dnorm2 = np.linalg.norm(ddata,ord=2,axis=1)\n",
        "print(dnorm2)\n",
        "dnorm2.shape\n",
        "dave = np.mean(dnorm2)\n",
        "dstd = np.std(dnorm2,ddof=1)\n",
        "print('Average = ',dave)\n",
        "print('Standard deviation = ',dstd)"
      ],
      "execution_count": 8,
      "outputs": [
        {
          "output_type": "stream",
          "text": [
            "[[ 0.16331698 -0.30208821  0.82952978 ...  1.10792078 -0.38237977\n",
            "   0.45274082]\n",
            " [ 0.71736908 -0.31891124  0.48384558 ...  0.49473035 -1.20202763\n",
            "   0.90068472]\n",
            " [-0.18454044 -1.61683125 -0.71984479 ...  0.29707077 -0.01134519\n",
            "   0.48409783]\n",
            " ...\n",
            " [ 0.58330736 -0.06862662 -1.02453799 ...  1.25648795 -0.42507059\n",
            "   0.13926731]\n",
            " [-0.16494313  0.0166765  -0.79170382 ...  0.80019008 -1.52105701\n",
            "  -1.97479312]\n",
            " [-0.30857973 -0.45973812  0.1132048  ... -0.69703871  0.90498112\n",
            "   0.84767744]]\n",
            "[14.29651512 14.17021021 14.04723343 ... 14.45556656 14.51550519\n",
            " 13.2451047 ]\n",
            "Average =  14.12193433363731\n",
            "Standard deviation =  0.7091866985623351\n"
          ],
          "name": "stdout"
        }
      ]
    },
    {
      "cell_type": "code",
      "metadata": {
        "id": "K8UHTdoYB0xP",
        "colab_type": "code",
        "outputId": "e6d3031f-0c76-46c6-ceb1-c1ad663f5775",
        "colab": {
          "base_uri": "https://localhost:8080/",
          "height": 302
        }
      },
      "source": [
        "d = 500\n",
        "dmean = np.zeros(d)\n",
        "dcov = np.eye(d,dtype=int)\n",
        "ddata = np.random.multivariate_normal(dmean,dcov,10000)\n",
        "print(ddata)\n",
        "ddata.shape\n",
        "dnorm2 = np.linalg.norm(ddata,ord=2,axis=1)\n",
        "print(dnorm2)\n",
        "dnorm2.shape\n",
        "dave = np.mean(dnorm2)\n",
        "dstd = np.std(dnorm2,ddof=1)\n",
        "print('Average = ',dave)\n",
        "print('Standard deviation = ',dstd)"
      ],
      "execution_count": 9,
      "outputs": [
        {
          "output_type": "stream",
          "text": [
            "[[ 1.39581193  1.71127775  0.61653014 ...  1.98060386 -0.53813392\n",
            "   0.82933861]\n",
            " [-1.67923584  1.42750907  1.12952673 ... -1.72719813  0.33445788\n",
            "  -0.24019628]\n",
            " [-1.92120836 -0.1731751  -0.29539984 ...  2.46113879 -0.37892441\n",
            "  -0.74587022]\n",
            " ...\n",
            " [ 1.99596911 -0.41574918  0.46972339 ... -1.54642874 -0.57644938\n",
            "   0.14472119]\n",
            " [ 0.36960223  0.13275916  0.56633678 ...  0.58020235  0.44552349\n",
            "  -1.50809642]\n",
            " [ 0.73203927  0.16082557  0.8555576  ...  0.10534103 -0.07807581\n",
            "   0.42914449]]\n",
            "[22.12501916 21.87784988 22.7345124  ... 23.11587533 22.94749144\n",
            " 22.70993034]\n",
            "Average =  22.351672797699322\n",
            "Standard deviation =  0.7091283546140434\n"
          ],
          "name": "stdout"
        }
      ]
    },
    {
      "cell_type": "code",
      "metadata": {
        "id": "Y_5PnyVGB4sk",
        "colab_type": "code",
        "outputId": "1603e11f-19f4-4861-c729-0a6768e501d1",
        "colab": {
          "base_uri": "https://localhost:8080/",
          "height": 302
        }
      },
      "source": [
        "d = 1000\n",
        "dmean = np.zeros(d)\n",
        "dcov = np.eye(d,dtype=int)\n",
        "ddata = np.random.multivariate_normal(dmean,dcov,10000)\n",
        "print(ddata)\n",
        "ddata.shape\n",
        "dnorm2 = np.linalg.norm(ddata,ord=2,axis=1)\n",
        "print(dnorm2)\n",
        "dnorm2.shape\n",
        "dave = np.mean(dnorm2)\n",
        "dstd = np.std(dnorm2,ddof=1)\n",
        "print('Average = ',dave)\n",
        "print('Standard deviation = ',dstd)"
      ],
      "execution_count": 10,
      "outputs": [
        {
          "output_type": "stream",
          "text": [
            "[[-1.37152944 -1.19612154 -1.61219249 ...  0.28821635 -1.66956507\n",
            "   1.90991624]\n",
            " [ 1.47767097  1.52766678  1.40766532 ...  1.20764856  0.76857637\n",
            "   1.16506641]\n",
            " [-0.02837648  0.77924169 -0.37899823 ...  0.38646313 -1.6346312\n",
            "  -2.02761735]\n",
            " ...\n",
            " [-0.21356536 -0.11157295  2.52287145 ...  0.66846435  1.02464826\n",
            "   1.71213384]\n",
            " [ 0.49729687 -0.97485884  0.26275225 ...  0.12959433 -0.27942212\n",
            "   0.43869886]\n",
            " [-0.10204245 -2.53940882  0.38061424 ...  1.97882968 -1.07982279\n",
            "   0.26691541]]\n",
            "[31.77141868 31.42865389 31.70430511 ... 32.45739554 30.91901639\n",
            " 30.78049812]\n",
            "Average =  31.613518603010192\n",
            "Standard deviation =  0.7090908027220426\n"
          ],
          "name": "stdout"
        }
      ]
    },
    {
      "cell_type": "markdown",
      "metadata": {
        "id": "e01aT5FvB8t9",
        "colab_type": "text"
      },
      "source": [
        "Question 3.d"
      ]
    },
    {
      "cell_type": "markdown",
      "metadata": {
        "id": "urR9IkmZCQQM",
        "colab_type": "text"
      },
      "source": [
        "Average value rises, standard deviation does not change."
      ]
    },
    {
      "cell_type": "markdown",
      "metadata": {
        "id": "SlXzcPkwCUN1",
        "colab_type": "text"
      },
      "source": [
        "Question 4.a"
      ]
    },
    {
      "cell_type": "markdown",
      "metadata": {
        "id": "ZbQweXL2RoWD",
        "colab_type": "text"
      },
      "source": [
        "Connect  Google Drive Services to read datasets.\n"
      ]
    },
    {
      "cell_type": "code",
      "metadata": {
        "id": "XCjdhHhSofen",
        "colab_type": "code",
        "colab": {}
      },
      "source": [
        "import os\n",
        "from google.colab import drive"
      ],
      "execution_count": 0,
      "outputs": []
    },
    {
      "cell_type": "code",
      "metadata": {
        "id": "IDJeDs1no32X",
        "colab_type": "code",
        "outputId": "74416ffc-f233-4643-bb52-bb4ac3914109",
        "colab": {
          "base_uri": "https://localhost:8080/",
          "height": 34
        }
      },
      "source": [
        "drive.mount('/content/drive')\n",
        "path = \"/content/drive//My Drive/ML_Homework1_Dataset\"\n",
        "os.chdir(path)"
      ],
      "execution_count": 12,
      "outputs": [
        {
          "output_type": "stream",
          "text": [
            "Drive already mounted at /content/drive; to attempt to forcibly remount, call drive.mount(\"/content/drive\", force_remount=True).\n"
          ],
          "name": "stdout"
        }
      ]
    },
    {
      "cell_type": "code",
      "metadata": {
        "id": "AZFZ5UW2TMC1",
        "colab_type": "code",
        "outputId": "36c1dcd5-ea24-46e5-ff0b-a3ad9ba30907",
        "colab": {
          "base_uri": "https://localhost:8080/",
          "height": 34
        }
      },
      "source": [
        "!ls"
      ],
      "execution_count": 13,
      "outputs": [
        {
          "output_type": "stream",
          "text": [
            "d1.txt\td2.txt\td3.txt\td4.txt\td5.txt\td_query.txt  drive\n"
          ],
          "name": "stdout"
        }
      ]
    },
    {
      "cell_type": "markdown",
      "metadata": {
        "id": "6e5rvUgmRU6k",
        "colab_type": "text"
      },
      "source": [
        "Read txt files."
      ]
    },
    {
      "cell_type": "code",
      "metadata": {
        "id": "LipaNvxuTRfa",
        "colab_type": "code",
        "outputId": "a3dc9c61-9bd6-42e7-960b-1279f48abf9c",
        "colab": {
          "base_uri": "https://localhost:8080/",
          "height": 54
        }
      },
      "source": [
        "f = open(\"./d1.txt\",\"r\")\n",
        "lines1 = f.readlines()\n",
        "doc1 = ' '\n",
        "for line in lines1:\n",
        "  doc1 += '' + line\n",
        "print([doc1])"
      ],
      "execution_count": 14,
      "outputs": [
        {
          "output_type": "stream",
          "text": [
            "[' Java is an island of Indonesia.  With a population of over 141 million, Java is home to 56.7 percent of the Indonesian population, and is the most populous island on Earth.  The Indonesian capital city, Jakarta, is located on western Java.  Much of Indonesian history took place on Java.  It was the center of powerful Hindu-Buddhist empires, the Islamic sultanates, and the core of the colonial Dutch East Indies.\\n\\nFormed mostly as the result of volcanic eruptions, Java is the thirteenth largest island in the world and the fifth largest in Indonesia. A chain of volcanic mountains forms an east–west spine along the island. Three main languages are spoken on the island: Javanese, Sundanese, and Madurese. Of these, Javanese is the dominant; it is the native language of about 60 million people in Indonesia, most of whom live on Java. Furthermore, most residents are bilingual, speaking Indonesian (the official language of Indonesia) as their first or second language. While the majority of the people of Java are Muslim, Java has a diverse mixture of religious beliefs, ethnicities, and cultures.\\n']\n"
          ],
          "name": "stdout"
        }
      ]
    },
    {
      "cell_type": "code",
      "metadata": {
        "id": "89GbVhz9QR--",
        "colab_type": "code",
        "outputId": "6a754ac9-bec2-4c30-9257-b5376622d03f",
        "colab": {
          "base_uri": "https://localhost:8080/",
          "height": 54
        }
      },
      "source": [
        "f = open(\"./d2.txt\",\"r\")\n",
        "lines2 = f.readlines()\n",
        "doc2 = ' '\n",
        "for line in lines2:\n",
        "  doc2 += '' + line\n",
        "print([doc2])"
      ],
      "execution_count": 15,
      "outputs": [
        {
          "output_type": "stream",
          "text": [
            "[\" Java is a town of approximately 1,500 people in Georgia in South Ossetia. According to Georgia's current official administrative division, Java is a main town of Java district in the north of Shida Kartli region. According to the South Ossetian side Dzau is an administrative center of Dzau district. The town is situated on the southern slopes of the Greater Caucasus, within the Greater Liakhvi Gorge, 1,040 m (3,412 ft) above sea level.\\n\\nJava is the second largest urban settlement in South Ossetia, after Tskhinvali. It is located outside the Organization for Security and Co-operation in Europe-defined boundaries of the Georgian-Ossetian conflict zone – an area within a 15-km radius of Tskhinvali.\\n\\nThe town played a major role in the 2008 South Ossetia war, with most of the South Ossetian military forces being located there at the time of the Georgian offensive. During the Battle of Tskhinvali, the government of South Ossetia relocated to Java.\\n\\nGeorgia had accused the Russian military of building a large military base in Java before the war. These concerns were brought by the President of Georgia, Mikheil Saakashvili, to the attention of the UN General Assembly on September 26, 2007. After the war, Russia announced it was constructing military bases in Java and Tskhinvali, which would be ready in 2010.\\n\"]\n"
          ],
          "name": "stdout"
        }
      ]
    },
    {
      "cell_type": "code",
      "metadata": {
        "id": "tHU2gcFNQ5Ui",
        "colab_type": "code",
        "outputId": "52980658-796d-484d-8352-c4d8426b681c",
        "colab": {
          "base_uri": "https://localhost:8080/",
          "height": 54
        }
      },
      "source": [
        "f = open(\"./d3.txt\",\"r\")\n",
        "lines3 = f.readlines()\n",
        "doc3 = ' '\n",
        "for line in lines3:\n",
        "  doc3 += '' + line\n",
        "print([doc3])"
      ],
      "execution_count": 16,
      "outputs": [
        {
          "output_type": "stream",
          "text": [
            "[' USS Java was a wooden-hulled, sailing frigate in the United States Navy, bearing 44 guns. She was named for the American victory over HMS Java off the coast of Brazil on 29 December 1812, captured by the Constitution under the command of Captain William Bainbridge. HMS Java had suffered severe damage during the engagement and being far from home port was ordered burned.\\n\\nJava was built at Baltimore, Maryland in 1814 and 1815 by Flannigan and Parsons. Not completed until after the end of the War of 1812, Java, Captain Oliver Hazard Perry in command, got underway from Baltimore 5 August 1815, picked up spare rigging at Hampton Roads and New York, and sailed to Newport, Rhode Island, to fill out her crew. Ordered to the Mediterranean to serve in the Second Barbary War, the new frigate departed from Newport 22 January 1816 in the face of a bitter gale. At sea one of her masts snapped with ten men upon the yards, killing five.\\n\\nJava was off Algiers in April where Perry went ashore under a flag of truce and persuaded the Dey of Algiers to honor the treaty which he had signed the previous summer but had been ignoring. Next she sailed for Tripoli with Constellation, Ontario, and Erie to show the strength and resolve of the United States. Then, after a cruise in the Mediterranean stopping at Syracuse, Messina, Palermo, Tunis, Gibraltar and Naples, the frigate returned to Newport early in 1817 and was laid up at Boston, Massachusetts.\\n\\nJava returned to active service in 1827 under Captain William M. Crane for a second deployment in the Mediterranean. There she protected American citizens and commerce and performed diplomatic duties. Toward the end of the cruise she served as flagship of Commodore James Biddle.\\n\\nAfter returning to the United States in 1831, Java became receiving ship at Norfolk, where she was broken up in 1842.\\n']\n"
          ],
          "name": "stdout"
        }
      ]
    },
    {
      "cell_type": "code",
      "metadata": {
        "id": "0uD5kNL1Q9JT",
        "colab_type": "code",
        "outputId": "65c45f6e-f22b-4ecb-8f12-31da916f40b2",
        "colab": {
          "base_uri": "https://localhost:8080/",
          "height": 54
        }
      },
      "source": [
        "f = open(\"./d4.txt\",\"r\")\n",
        "lines4 = f.readlines()\n",
        "doc4 = ' '\n",
        "for line in lines4:\n",
        "  doc4 += '' + line\n",
        "print([doc4])"
      ],
      "execution_count": 17,
      "outputs": [
        {
          "output_type": "stream",
          "text": [
            "[' Java coffee refers to coffee beans produced in the Indonesian island of Java.  The Indonesian phrase Kopi Java refers not only to the origin of the coffee, but is used to distinguish a style of strong, black, and very sweet coffee.  In some countries, Java can refer to coffee in general.\\n\\nThe coffee is primarily grown on large estates that were built by the Dutch in the 18th century. The five largest estates are Blawan (also spelled Belawan or Blauan), Jampit (or Djampit), Pancoer (or Pancur), Kayumas and Tugosari, and they cover more than 4,000 hectares.\\n\\nThese estates transport ripe cherries quickly to their mills after harvest. The pulp is then fermented and washed off, using the wet process, with rigorous quality control. This results in coffee with good, heavy body and a sweet overall impression. They are sometimes rustic in their flavor profiles, but display a lasting finish. At their best, they are smooth and supple and sometimes have a subtle herbaceous note in the after-taste.\\n\\nThis coffee is prized as one component in the traditional \"Mocca Java\" blend, which pairs coffee from Yemen and Java. Certain estates age a portion of their coffee for up to five years, normally in large burlap sacks, which are regularly aired, dusted, and flipped. As they age, the beans turn from green to light brown, and their flavor gains strength while losing acidity. Aged coffees can display flavors ranging from cedar to spices such as cinnamon or clove, and often develop a thick, almost syrupy body. These aged coffees are called Old Government, Old Brown or Old Java.\\n']\n"
          ],
          "name": "stdout"
        }
      ]
    },
    {
      "cell_type": "code",
      "metadata": {
        "id": "8tPFU0YsRBxd",
        "colab_type": "code",
        "outputId": "88728ac8-31bd-4bd2-9887-dffcd5e9f759",
        "colab": {
          "base_uri": "https://localhost:8080/",
          "height": 54
        }
      },
      "source": [
        "f = open(\"./d5.txt\",\"r\")\n",
        "lines5 = f.readlines()\n",
        "doc5 = ' '\n",
        "for line in lines5:\n",
        "  doc5 += '' + line\n",
        "print([doc5])"
      ],
      "execution_count": 18,
      "outputs": [
        {
          "output_type": "stream",
          "text": [
            "[' Java is a general-purpose computer programming language that is concurrent, class-based, object-oriented, and specifically designed to have as few implementation dependencies as possible. It is intended to let application developers \"write once, run anywhere\" (WORA), meaning that compiled Java code can run on all platforms that support Java without the need for recompilation.\\n\\nJava applications are typically compiled to bytecode that can run on any Java virtual machine (JVM) regardless of computer architecture. As of 2016, Java is one of the most popular programming languages in use, particularly for client-server web applications, with a reported 9 million developers. Java was originally developed by James Gosling at Sun Microsystems (which has since been acquired by Oracle Corporation) and released in 1995 as a core component of Sun Microsystems\\' Java platform. The language derives much of its syntax from C and C++, but it has fewer low-level facilities than either of them.\\n\\nThe original and reference implementation Java compilers, virtual machines, and class libraries were originally released by Sun under proprietary licenses. As of May 2007, in compliance with the specifications of the Java Community Process, Sun relicensed most of its Java technologies under the GNU General Public License. Others have also developed alternative implementations of these Sun technologies, such as the GNU Compiler for Java (bytecode compiler), GNU Classpath (standard libraries), and IcedTea-Web (browser plugin for applets).\\n']\n"
          ],
          "name": "stdout"
        }
      ]
    },
    {
      "cell_type": "code",
      "metadata": {
        "id": "zKufdJMkRJJm",
        "colab_type": "code",
        "outputId": "53671eca-7b07-4c54-dd7e-a906e5d78bda",
        "colab": {
          "base_uri": "https://localhost:8080/",
          "height": 34
        }
      },
      "source": [
        "f = open(\"./d_query.txt\",\"r\")\n",
        "lines_query = f.readlines()\n",
        "doc_query = ' '\n",
        "for line in lines_query:\n",
        "  doc_query += '' + line\n",
        "print([doc_query])"
      ],
      "execution_count": 19,
      "outputs": [
        {
          "output_type": "stream",
          "text": [
            "[' java coffee mocha\\n']\n"
          ],
          "name": "stdout"
        }
      ]
    },
    {
      "cell_type": "markdown",
      "metadata": {
        "id": "DDEw3HpORTGo",
        "colab_type": "text"
      },
      "source": [
        "Convert into vector of words."
      ]
    },
    {
      "cell_type": "code",
      "metadata": {
        "id": "yKGPdLK1RxTx",
        "colab_type": "code",
        "outputId": "bc45d469-513e-4d52-c8ab-4abb6ec1e3b0",
        "colab": {
          "base_uri": "https://localhost:8080/",
          "height": 222
        }
      },
      "source": [
        "from sklearn.feature_extraction.text import CountVectorizer\n",
        "docs = [doc1, doc2, doc3, doc4, doc5, doc_query]\n",
        "cv = CountVectorizer()\n",
        "cvfit = cv.fit_transform(docs)  #Learn the vocabulary dictionary and return term-document matrix.\n",
        "fname = cv.get_feature_names()  #Array mapping from feature integer indices to feature name.\n",
        "cvfitarray = cvfit.toarray()\n",
        "print('Feature name\\n',fname)\n",
        "print('The length of vector = ',len(fname))\n",
        "print('Term frequency matrix\\n',cvfitarray)\n",
        "cvfitarray.shape"
      ],
      "execution_count": 20,
      "outputs": [
        {
          "output_type": "stream",
          "text": [
            "Feature name\n",
            " ['000', '040', '141', '15', '1812', '1814', '1815', '1816', '1817', '1827', '1831', '1842', '18th', '1995', '2007', '2008', '2010', '2016', '22', '26', '29', '412', '44', '500', '56', '60', 'about', 'above', 'according', 'accused', 'acidity', 'acquired', 'active', 'administrative', 'after', 'age', 'aged', 'aired', 'algiers', 'all', 'almost', 'along', 'also', 'alternative', 'american', 'an', 'and', 'announced', 'any', 'anywhere', 'applets', 'application', 'applications', 'approximately', 'april', 'architecture', 'are', 'area', 'as', 'ashore', 'assembly', 'at', 'attention', 'august', 'bainbridge', 'baltimore', 'barbary', 'base', 'based', 'bases', 'battle', 'be', 'beans', 'bearing', 'became', 'been', 'before', 'being', 'belawan', 'beliefs', 'best', 'biddle', 'bilingual', 'bitter', 'black', 'blauan', 'blawan', 'blend', 'body', 'boston', 'boundaries', 'brazil', 'broken', 'brought', 'brown', 'browser', 'buddhist', 'building', 'built', 'burlap', 'burned', 'but', 'by', 'bytecode', 'called', 'can', 'capital', 'captain', 'captured', 'caucasus', 'cedar', 'center', 'century', 'certain', 'chain', 'cherries', 'cinnamon', 'citizens', 'city', 'class', 'classpath', 'client', 'clove', 'co', 'coast', 'code', 'coffee', 'coffees', 'colonial', 'command', 'commerce', 'commodore', 'community', 'compiled', 'compiler', 'compilers', 'completed', 'compliance', 'component', 'computer', 'concerns', 'concurrent', 'conflict', 'constellation', 'constitution', 'constructing', 'control', 'core', 'corporation', 'countries', 'cover', 'crane', 'crew', 'cruise', 'cultures', 'current', 'damage', 'december', 'defined', 'departed', 'dependencies', 'deployment', 'derives', 'designed', 'develop', 'developed', 'developers', 'dey', 'diplomatic', 'display', 'distinguish', 'district', 'diverse', 'division', 'djampit', 'dominant', 'during', 'dusted', 'dutch', 'duties', 'dzau', 'early', 'earth', 'east', 'either', 'empires', 'end', 'engagement', 'erie', 'eruptions', 'estates', 'ethnicities', 'europe', 'face', 'facilities', 'far', 'fermented', 'few', 'fewer', 'fifth', 'fill', 'finish', 'first', 'five', 'flag', 'flagship', 'flannigan', 'flavor', 'flavors', 'flipped', 'for', 'forces', 'formed', 'forms', 'frigate', 'from', 'ft', 'furthermore', 'gains', 'gale', 'general', 'georgia', 'georgian', 'gibraltar', 'gnu', 'good', 'gorge', 'gosling', 'got', 'government', 'greater', 'green', 'grown', 'guns', 'had', 'hampton', 'harvest', 'has', 'have', 'hazard', 'he', 'heavy', 'hectares', 'her', 'herbaceous', 'hindu', 'history', 'hms', 'home', 'honor', 'hulled', 'icedtea', 'ignoring', 'implementation', 'implementations', 'impression', 'in', 'indies', 'indonesia', 'indonesian', 'intended', 'is', 'islamic', 'island', 'it', 'its', 'jakarta', 'james', 'jampit', 'january', 'java', 'javanese', 'jvm', 'kartli', 'kayumas', 'killing', 'km', 'kopi', 'laid', 'language', 'languages', 'large', 'largest', 'lasting', 'let', 'level', 'liakhvi', 'libraries', 'license', 'licenses', 'light', 'live', 'located', 'losing', 'low', 'machine', 'machines', 'madurese', 'main', 'major', 'majority', 'maryland', 'massachusetts', 'masts', 'may', 'meaning', 'mediterranean', 'men', 'messina', 'microsystems', 'mikheil', 'military', 'million', 'mills', 'mixture', 'mocca', 'mocha', 'more', 'most', 'mostly', 'mountains', 'much', 'muslim', 'named', 'naples', 'native', 'navy', 'need', 'new', 'newport', 'next', 'norfolk', 'normally', 'north', 'not', 'note', 'object', 'of', 'off', 'offensive', 'official', 'often', 'old', 'oliver', 'on', 'once', 'one', 'only', 'ontario', 'operation', 'or', 'oracle', 'ordered', 'organization', 'oriented', 'origin', 'original', 'originally', 'ossetia', 'ossetian', 'others', 'out', 'outside', 'over', 'overall', 'pairs', 'palermo', 'pancoer', 'pancur', 'parsons', 'particularly', 'people', 'percent', 'performed', 'perry', 'persuaded', 'phrase', 'picked', 'place', 'platform', 'platforms', 'played', 'plugin', 'popular', 'population', 'populous', 'port', 'portion', 'possible', 'powerful', 'president', 'previous', 'primarily', 'prized', 'process', 'produced', 'profiles', 'programming', 'proprietary', 'protected', 'public', 'pulp', 'purpose', 'quality', 'quickly', 'radius', 'ranging', 'ready', 'receiving', 'recompilation', 'refer', 'reference', 'refers', 'regardless', 'region', 'regularly', 'released', 'relicensed', 'religious', 'relocated', 'reported', 'residents', 'resolve', 'result', 'results', 'returned', 'returning', 'rhode', 'rigging', 'rigorous', 'ripe', 'roads', 'role', 'run', 'russia', 'russian', 'rustic', 'saakashvili', 'sacks', 'sailed', 'sailing', 'sea', 'second', 'security', 'september', 'serve', 'served', 'server', 'service', 'settlement', 'severe', 'she', 'shida', 'ship', 'show', 'side', 'signed', 'since', 'situated', 'slopes', 'smooth', 'snapped', 'some', 'sometimes', 'south', 'southern', 'spare', 'speaking', 'specifically', 'specifications', 'spelled', 'spices', 'spine', 'spoken', 'standard', 'states', 'stopping', 'strength', 'strong', 'style', 'subtle', 'such', 'suffered', 'sultanates', 'summer', 'sun', 'sundanese', 'supple', 'support', 'sweet', 'syntax', 'syracuse', 'syrupy', 'taste', 'technologies', 'ten', 'than', 'that', 'the', 'their', 'them', 'then', 'there', 'these', 'they', 'thick', 'thirteenth', 'this', 'three', 'time', 'to', 'took', 'toward', 'town', 'traditional', 'transport', 'treaty', 'tripoli', 'truce', 'tskhinvali', 'tugosari', 'tunis', 'turn', 'typically', 'un', 'under', 'underway', 'united', 'until', 'up', 'upon', 'urban', 'use', 'used', 'using', 'uss', 'very', 'victory', 'virtual', 'volcanic', 'war', 'was', 'washed', 'web', 'went', 'were', 'west', 'western', 'wet', 'where', 'which', 'while', 'whom', 'william', 'with', 'within', 'without', 'wooden', 'wora', 'world', 'would', 'write', 'yards', 'years', 'yemen', 'york', 'zone']\n",
            "The length of vector =  567\n",
            "Term frequency matrix\n",
            " [[0 0 1 ... 0 0 0]\n",
            " [0 1 0 ... 0 0 1]\n",
            " [0 0 0 ... 0 1 0]\n",
            " [1 0 0 ... 1 0 0]\n",
            " [0 0 0 ... 0 0 0]\n",
            " [0 0 0 ... 0 0 0]]\n"
          ],
          "name": "stdout"
        },
        {
          "output_type": "execute_result",
          "data": {
            "text/plain": [
              "(6, 567)"
            ]
          },
          "metadata": {
            "tags": []
          },
          "execution_count": 20
        }
      ]
    },
    {
      "cell_type": "markdown",
      "metadata": {
        "id": "WUsKma3bVYn0",
        "colab_type": "text"
      },
      "source": [
        "Question 4.b"
      ]
    },
    {
      "cell_type": "code",
      "metadata": {
        "id": "07WIYaboVWSq",
        "colab_type": "code",
        "outputId": "64ad42b6-0e91-4b8a-c102-3fad010e4481",
        "colab": {
          "base_uri": "https://localhost:8080/",
          "height": 134
        }
      },
      "source": [
        "from sklearn.feature_extraction.text import TfidfTransformer\n",
        "tfidftrans = TfidfTransformer()\n",
        "tfidf = tfidftrans.fit_transform(cvfitarray) #Transform a count matrix to a normalized tf or tf-idf representation\n",
        "tfidfarray = tfidf.toarray() \n",
        "print('tf-idf matrix\\n',tfidfarray)"
      ],
      "execution_count": 21,
      "outputs": [
        {
          "output_type": "stream",
          "text": [
            "tf-idf matrix\n",
            " [[0.         0.         0.05428872 ... 0.         0.         0.        ]\n",
            " [0.         0.04577969 0.         ... 0.         0.         0.04577969]\n",
            " [0.         0.         0.         ... 0.         0.03958479 0.        ]\n",
            " [0.04603244 0.         0.         ... 0.04603244 0.         0.        ]\n",
            " [0.         0.         0.         ... 0.         0.         0.        ]\n",
            " [0.         0.         0.         ... 0.         0.         0.        ]]\n"
          ],
          "name": "stdout"
        }
      ]
    },
    {
      "cell_type": "markdown",
      "metadata": {
        "id": "cvVOAdWtYoT1",
        "colab_type": "text"
      },
      "source": [
        "Question 4.c"
      ]
    },
    {
      "cell_type": "code",
      "metadata": {
        "id": "xCg0faa5Yoqy",
        "colab_type": "code",
        "outputId": "c3c42061-23ef-4274-f4f7-960c8cacbeff",
        "colab": {
          "base_uri": "https://localhost:8080/",
          "height": 134
        }
      },
      "source": [
        "from sklearn.metrics.pairwise import cosine_similarity\n",
        "cos = cosine_similarity(tfidfarray)\n",
        "print('Cosine similarity\\n',cos)"
      ],
      "execution_count": 22,
      "outputs": [
        {
          "output_type": "stream",
          "text": [
            "Cosine similarity\n",
            " [[1.         0.52544976 0.44393323 0.375674   0.40846368 0.06259063]\n",
            " [0.52544976 1.         0.4611172  0.32071883 0.32579487 0.04618284]\n",
            " [0.44393323 0.4611172  1.         0.38232595 0.33257174 0.04563816]\n",
            " [0.375674   0.32071883 0.38232595 1.         0.29589813 0.27282277]\n",
            " [0.40846368 0.32579487 0.33257174 0.29589813 1.         0.09293186]\n",
            " [0.06259063 0.04618284 0.04563816 0.27282277 0.09293186 1.        ]]\n"
          ],
          "name": "stdout"
        }
      ]
    },
    {
      "cell_type": "markdown",
      "metadata": {
        "id": "Oa43spfOZJCo",
        "colab_type": "text"
      },
      "source": [
        "Question 4.d"
      ]
    },
    {
      "cell_type": "code",
      "metadata": {
        "id": "5XQvZGG-ZNZh",
        "colab_type": "code",
        "outputId": "02d38d95-dc22-4f93-afc7-b219948801b6",
        "colab": {
          "base_uri": "https://localhost:8080/",
          "height": 50
        }
      },
      "source": [
        "print('doc1        doc2       doc3       doc4       doc5       doc_query')\n",
        "print(cos[5])\n"
      ],
      "execution_count": 23,
      "outputs": [
        {
          "output_type": "stream",
          "text": [
            "doc1        doc2       doc3       doc4       doc5       doc_query\n",
            "[0.06259063 0.04618284 0.04563816 0.27282277 0.09293186 1.        ]\n"
          ],
          "name": "stdout"
        }
      ]
    },
    {
      "cell_type": "markdown",
      "metadata": {
        "id": "Q4bd8dW6aMVR",
        "colab_type": "text"
      },
      "source": [
        "Therefore, Doc4 has the maximum similarity value."
      ]
    }
  ]
}